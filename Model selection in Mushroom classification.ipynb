{
 "cells": [
  {
   "cell_type": "code",
   "execution_count": 1,
   "id": "94606bea",
   "metadata": {},
   "outputs": [
    {
     "name": "stdout",
     "output_type": "stream",
     "text": [
      "<class 'pandas.core.frame.DataFrame'>\n",
      "RangeIndex: 8124 entries, 0 to 8123\n",
      "Data columns (total 23 columns):\n",
      " #   Column                    Non-Null Count  Dtype \n",
      "---  ------                    --------------  ----- \n",
      " 0   class                     8124 non-null   object\n",
      " 1   cap-shape                 8124 non-null   object\n",
      " 2   cap-surface               8124 non-null   object\n",
      " 3   cap-color                 8124 non-null   object\n",
      " 4   bruises                   8124 non-null   object\n",
      " 5   odor                      8124 non-null   object\n",
      " 6   gill-attachment           8124 non-null   object\n",
      " 7   gill-spacing              8124 non-null   object\n",
      " 8   gill-size                 8124 non-null   object\n",
      " 9   gill-color                8124 non-null   object\n",
      " 10  stalk-shape               8124 non-null   object\n",
      " 11  stalk-root                8124 non-null   object\n",
      " 12  stalk-surface-above-ring  8124 non-null   object\n",
      " 13  stalk-surface-below-ring  8124 non-null   object\n",
      " 14  stalk-color-above-ring    8124 non-null   object\n",
      " 15  stalk-color-below-ring    8124 non-null   object\n",
      " 16  veil-type                 8124 non-null   object\n",
      " 17  veil-color                8124 non-null   object\n",
      " 18  ring-number               8124 non-null   object\n",
      " 19  ring-type                 8124 non-null   object\n",
      " 20  spore-print-color         8124 non-null   object\n",
      " 21  population                8124 non-null   object\n",
      " 22  habitat                   8124 non-null   object\n",
      "dtypes: object(23)\n",
      "memory usage: 1.4+ MB\n",
      "class\n",
      "['p' 'e']\n",
      "cap-shape\n",
      "['x' 'b' 's' 'f' 'k' 'c']\n",
      "cap-surface\n",
      "['s' 'y' 'f' 'g']\n",
      "cap-color\n",
      "['n' 'y' 'w' 'g' 'e' 'p' 'b' 'u' 'c' 'r']\n",
      "bruises\n",
      "['t' 'f']\n",
      "odor\n",
      "['p' 'a' 'l' 'n' 'f' 'c' 'y' 's' 'm']\n",
      "gill-attachment\n",
      "['f' 'a']\n",
      "gill-spacing\n",
      "['c' 'w']\n",
      "gill-size\n",
      "['n' 'b']\n",
      "gill-color\n",
      "['k' 'n' 'g' 'p' 'w' 'h' 'u' 'e' 'b' 'r' 'y' 'o']\n",
      "stalk-shape\n",
      "['e' 't']\n",
      "stalk-root\n",
      "['e' 'c' 'b' 'r' '?']\n",
      "stalk-surface-above-ring\n",
      "['s' 'f' 'k' 'y']\n",
      "stalk-surface-below-ring\n",
      "['s' 'f' 'y' 'k']\n",
      "stalk-color-above-ring\n",
      "['w' 'g' 'p' 'n' 'b' 'e' 'o' 'c' 'y']\n",
      "stalk-color-below-ring\n",
      "['w' 'p' 'g' 'b' 'n' 'e' 'y' 'o' 'c']\n",
      "veil-type\n",
      "['p']\n",
      "veil-color\n",
      "['w' 'n' 'o' 'y']\n",
      "ring-number\n",
      "['o' 't' 'n']\n",
      "ring-type\n",
      "['p' 'e' 'l' 'f' 'n']\n",
      "spore-print-color\n",
      "['k' 'n' 'u' 'h' 'w' 'r' 'o' 'y' 'b']\n",
      "population\n",
      "['s' 'n' 'a' 'v' 'y' 'c']\n",
      "habitat\n",
      "['u' 'g' 'm' 'd' 'p' 'w' 'l']\n"
     ]
    }
   ],
   "source": [
    "#mathematical calculation and statistical imputation\n",
    "import pandas as pd\n",
    "import numpy as np\n",
    "#Visualisation\n",
    "import matplotlib.pyplot as plt\n",
    "#%matplotlib inline\n",
    "import seaborn as sns\n",
    "#label encoding\n",
    "from sklearn.preprocessing import LabelEncoder\n",
    "from sklearn.preprocessing import OneHotEncoder\n",
    "#training _testing conversion\n",
    "from sklearn.model_selection import train_test_split\n",
    "# dimension reduction\n",
    "from sklearn.preprocessing import StandardScaler\n",
    "from sklearn.decomposition import PCA\n",
    "#Multicolinearity\n",
    "from statsmodels.stats.outliers_influence import variance_inflation_factor\n",
    "#model building and Metrics for model evaluation\n",
    "from sklearn.pipeline import Pipeline\n",
    "from sklearn.linear_model import LogisticRegression\n",
    "from sklearn.tree import DecisionTreeClassifier\n",
    "from sklearn.ensemble import RandomForestClassifier\n",
    "from sklearn import ensemble, linear_model, neural_network\n",
    "from sklearn.naive_bayes import GaussianNB\n",
    "from sklearn.svm import SVC\n",
    "from sklearn.neighbors import KNeighborsClassifier\n",
    "from xgboost import XGBClassifier\n",
    "from sklearn import model_selection\n",
    "from sklearn.utils import class_weight\n",
    "from sklearn.metrics import classification_report\n",
    "from sklearn.metrics import confusion_matrix\n",
    "#model saving\n",
    "import pickle\n",
    "#ignore warning\n",
    "import warnings\n",
    "warnings.filterwarnings(\"ignore\")\n",
    "\n",
    "\n",
    "mushrooms = pd.read_csv('E:/iNueron/Mashrum/mushrooms.csv')\n",
    "\n",
    "#displaying top 5 rows of Dataframe\n",
    "mushrooms.head(5)\n",
    "\n",
    "#Description of Data\n",
    "mushrooms.describe()\n",
    "\n",
    "#Detailed info of Data\n",
    "mushrooms.info()\n",
    "\n",
    "\n",
    "\n",
    "\n",
    "\n",
    "\n",
    "#checking null values\n",
    "mushrooms.isnull().sum()\n",
    "\n",
    "\n"
   ]
  },
  {
   "cell_type": "code",
   "execution_count": 11,
   "id": "09c81ce8",
   "metadata": {},
   "outputs": [
    {
     "name": "stdout",
     "output_type": "stream",
     "text": [
      "class\n",
      "[1 0]\n",
      "cap-shape\n",
      "[5 0 4 2 3 1]\n",
      "cap-surface\n",
      "[2 3 0 1]\n",
      "cap-color\n",
      "[4 9 8 3 2 5 0 7 1 6]\n",
      "bruises\n",
      "[1 0]\n",
      "odor\n",
      "[6 0 3 5 2 1 8 7 4]\n",
      "gill-attachment\n",
      "[1 0]\n",
      "gill-spacing\n",
      "[0 1]\n",
      "gill-size\n",
      "[1 0]\n",
      "gill-color\n",
      "[ 4  5  2  7 10  3  9  1  0  8 11  6]\n",
      "stalk-shape\n",
      "[0 1]\n",
      "stalk-root\n",
      "[3 2 1 4 0]\n",
      "stalk-surface-above-ring\n",
      "[2 0 1 3]\n",
      "stalk-surface-below-ring\n",
      "[2 0 3 1]\n",
      "stalk-color-above-ring\n",
      "[7 3 6 4 0 2 5 1 8]\n",
      "stalk-color-below-ring\n",
      "[7 6 3 0 4 2 8 5 1]\n",
      "veil-type\n",
      "[0]\n",
      "veil-color\n",
      "[2 0 1 3]\n",
      "ring-number\n",
      "[1 2 0]\n",
      "ring-type\n",
      "[4 0 2 1 3]\n",
      "spore-print-color\n",
      "[2 3 6 1 7 5 4 8 0]\n",
      "population\n",
      "[3 2 0 4 5 1]\n",
      "habitat\n",
      "[5 1 3 0 4 6 2]\n"
     ]
    }
   ],
   "source": [
    "#finding unqiue values in all columns\n",
    "for col in list(mushrooms):\n",
    "    print(col)\n",
    "    print(mushrooms[col].unique())\n",
    "\n",
    "#label encoding\n",
    "le=LabelEncoder()\n",
    "for i in mushrooms.columns:\n",
    "    mushrooms[i]=le.fit_transform(mushrooms[i])\n"
   ]
  },
  {
   "cell_type": "code",
   "execution_count": 12,
   "id": "198fd23c",
   "metadata": {},
   "outputs": [
    {
     "name": "stdout",
     "output_type": "stream",
     "text": [
      "[1 0 0 ... 0 1 0]\n",
      "[[0. 0. 0. ... 0. 1. 0.]\n",
      " [0. 0. 0. ... 0. 0. 0.]\n",
      " [1. 0. 0. ... 0. 0. 0.]\n",
      " ...\n",
      " [0. 0. 1. ... 0. 0. 0.]\n",
      " [0. 0. 0. ... 0. 0. 0.]\n",
      " [0. 0. 0. ... 0. 0. 0.]]\n"
     ]
    }
   ],
   "source": [
    "X = mushrooms.drop(['class'],axis=1)\n",
    "y = mushrooms['class']\n",
    "# Label encoding y - dependent variable\n",
    "le = LabelEncoder()\n",
    "y = le.fit_transform(y)\n",
    "print(y)\n",
    "\n",
    "# One hot encoding independent variable x\n",
    "onehotencoder = OneHotEncoder()\n",
    "X = onehotencoder.fit_transform(X).toarray()\n",
    "print(X)\n",
    "\n",
    "\n",
    "\n",
    "\n",
    "\n",
    "\n",
    "\n",
    "\n",
    "\n",
    "\n",
    "\n"
   ]
  },
  {
   "cell_type": "code",
   "execution_count": 13,
   "id": "f21d3cd8",
   "metadata": {},
   "outputs": [
    {
     "data": {
      "text/plain": [
       "((6093, 3), (2031, 3))"
      ]
     },
     "execution_count": 13,
     "metadata": {},
     "output_type": "execute_result"
    }
   ],
   "source": [
    "#Splitting into train and test\n",
    "x_train,x_test,y_train,y_test = train_test_split(X,y,test_size = 0.25,random_state=0)\n",
    "\n",
    "#shape of splitted data\n",
    "x_train.shape,x_test.shape,y_train.shape,y_test.shape\n",
    "\n",
    "#PCA analysis\n",
    "from sklearn.decomposition import PCA\n",
    "pca = PCA(n_components=3)\n",
    "\n",
    "x_train = pca.fit_transform(x_train)\n",
    "x_test = pca.transform(x_test)\n",
    "\n",
    "x_train.shape,x_test.shape\n"
   ]
  },
  {
   "cell_type": "code",
   "execution_count": 14,
   "id": "3d9eeb63",
   "metadata": {},
   "outputs": [
    {
     "name": "stdout",
     "output_type": "stream",
     "text": [
      "[[1012   49]\n",
      " [ 196  774]]\n",
      "0.879369768586903\n"
     ]
    }
   ],
   "source": [
    "#Step 5: Model Building\n",
    "#Logistic Regression\n",
    "# Training the Logistic Regression Model on the Training set\n",
    "from sklearn.linear_model import LogisticRegression\n",
    "LR_classifier = LogisticRegression(random_state = 0)\n",
    "LR_classifier.fit(x_train, y_train)\n",
    "\n",
    "# Predicting the test set\n",
    "y_pred = LR_classifier.predict(x_test)\n",
    "# Making the confusion matrix and calculating accuracy score\n",
    "acscore = []\n",
    "from sklearn.metrics import confusion_matrix, accuracy_score\n",
    "cm = confusion_matrix(y_test, y_pred)\n",
    "ac = accuracy_score(y_test, y_pred)\n",
    "acscore.append(ac)\n",
    "print(cm)\n",
    "print(ac)"
   ]
  },
  {
   "cell_type": "code",
   "execution_count": 15,
   "id": "e2213df5",
   "metadata": {},
   "outputs": [
    {
     "name": "stdout",
     "output_type": "stream",
     "text": [
      "[[1036   25]\n",
      " [ 195  775]]\n",
      "0.8916789758739537\n"
     ]
    }
   ],
   "source": [
    "# Naive Bayes\n",
    "# Training the Naive Bayes Classification model on the Training set\n",
    "from sklearn.naive_bayes import GaussianNB\n",
    "NB_classifier = GaussianNB()\n",
    "NB_classifier.fit(x_train, y_train)\n",
    "# Training the Naive Bayes Classification model on the Training set\n",
    "from sklearn.naive_bayes import GaussianNB\n",
    "NB_classifier = GaussianNB()\n",
    "NB_classifier.fit(x_train, y_train)\n",
    "\n",
    "# Predicting the test set\n",
    "y_pred = NB_classifier.predict(x_test)\n",
    "# Making the confusion matrix and calculating the accuarcy score\n",
    "from sklearn.metrics import confusion_matrix, accuracy_score\n",
    "cm = confusion_matrix(y_test, y_pred)\n",
    "ac = accuracy_score(y_test, y_pred)\n",
    "acscore.append(ac)\n",
    "print(cm)\n",
    "print(ac)"
   ]
  },
  {
   "cell_type": "code",
   "execution_count": 16,
   "id": "d81a2b14",
   "metadata": {},
   "outputs": [
    {
     "name": "stdout",
     "output_type": "stream",
     "text": [
      "[[1017   44]\n",
      " [  32  938]]\n",
      "0.9625800098473658\n"
     ]
    }
   ],
   "source": [
    "# Support Vector Machine\n",
    "# Training the RBF Kernel SVC on the Training set\n",
    "from sklearn.svm import SVC\n",
    "SVM_classifier = SVC(kernel = 'rbf', random_state=0)\n",
    "SVM_classifier.fit(x_train, y_train)\n",
    "\n",
    "# predicting test set\n",
    "y_pred = SVM_classifier.predict(x_test)\n",
    "# Making the confusion matrix and calculating the accuracy score\n",
    "from sklearn.metrics import confusion_matrix, accuracy_score\n",
    "cm = confusion_matrix(y_test, y_pred)\n",
    "ac = accuracy_score(y_test, y_pred)\n",
    "acscore.append(ac)\n",
    "print(cm)\n",
    "print(ac)\n"
   ]
  },
  {
   "cell_type": "code",
   "execution_count": 17,
   "id": "b889edf1",
   "metadata": {},
   "outputs": [
    {
     "data": {
      "image/png": "[encoded data removed]",
      "text/plain": [
       "<Figure size 432x288 with 1 Axes>"
      ]
     },
     "metadata": {},
     "output_type": "display_data"
    },
    {
     "name": "stdout",
     "output_type": "stream",
     "text": [
      "[[1060    1]\n",
      " [  15  955]]\n",
      "0.9921221073362876\n"
     ]
    }
   ],
   "source": [
    "# K - Nearest\n",
    "# Neighbors(KNN)\n",
    "# Calculating the optimum number of neighbors\n",
    "from sklearn.neighbors import KNeighborsClassifier\n",
    "from sklearn.metrics import confusion_matrix, accuracy_score\n",
    "\n",
    "list1 = []\n",
    "for neighbors in range(3, 10, 1):\n",
    "    classifier = KNeighborsClassifier(n_neighbors=neighbors, metric='minkowski')\n",
    "    classifier.fit(x_train, y_train)\n",
    "    y_pred = classifier.predict(x_test)\n",
    "    list1.append(accuracy_score(y_test, y_pred))\n",
    "\n",
    "list1\n",
    "plt.plot(list(range(3,10,1)), list1)\n",
    "plt.show()\n",
    "\n",
    "# Training the K Nearest Neighbor Classification on the Training set\n",
    "from sklearn.neighbors import KNeighborsClassifier\n",
    "KNN_classifier = KNeighborsClassifier(n_neighbors=5, p=2, metric='minkowski')\n",
    "KNN_classifier.fit(x_train, y_train)\n",
    "\n",
    "# Predicting the test set\n",
    "y_pred = KNN_classifier.predict(x_test)\n",
    "\n",
    "# Making the confusion matrix and calculating the accuracy score\n",
    "from sklearn.metrics import confusion_matrix, accuracy_score\n",
    "cm = confusion_matrix(y_test, y_pred)\n",
    "ac = accuracy_score(y_test, y_pred)\n",
    "acscore.append(ac)\n",
    "print(cm)\n",
    "print(ac)\n",
    "\n"
   ]
  },
  {
   "cell_type": "code",
   "execution_count": 18,
   "id": "f7a09510",
   "metadata": {},
   "outputs": [
    {
     "name": "stdout",
     "output_type": "stream",
     "text": [
      "[[1055    6]\n",
      " [  13  957]]\n",
      "0.9906450024618415\n"
     ]
    }
   ],
   "source": [
    "# Decison Tree\n",
    "# Training the Decision Tree Classification on the Training set\n",
    "from sklearn.tree import DecisionTreeClassifier\n",
    "DT_classifier = DecisionTreeClassifier(criterion = 'entropy', random_state=0)\n",
    "DT_classifier.fit(x_train, y_train)\n",
    "\n",
    "# Predicting the test set\n",
    "y_pred = DT_classifier.predict(x_test)\n",
    "# Making the confusion matrix and calculating the accuracy score\n",
    "from sklearn.metrics import confusion_matrix, accuracy_score\n",
    "cm = confusion_matrix(y_test, y_pred)\n",
    "ac = accuracy_score(y_test, y_pred)\n",
    "acscore.append(ac)\n",
    "print(cm)\n",
    "print(ac)\n"
   ]
  },
  {
   "cell_type": "code",
   "execution_count": 19,
   "id": "5ab81bc7",
   "metadata": {},
   "outputs": [
    {
     "name": "stdout",
     "output_type": "stream",
     "text": [
      "[10:27:22] WARNING: C:/Users/Administrator/workspace/xgboost-win64_release_1.4.0/src/learner.cc:1095: Starting in XGBoost 1.3.0, the default evaluation metric used with the objective 'binary:logistic' was changed from 'error' to 'logloss'. Explicitly set eval_metric if you'd like to restore the old behavior.\n",
      "[[1059    2]\n",
      " [  11  959]]\n",
      "0.9935992122107337\n"
     ]
    }
   ],
   "source": [
    "# XGBoost\n",
    "# Training the XGBoost Classification on the Training set\n",
    "from xgboost import XGBClassifier\n",
    "XGB_classifier = XGBClassifier()\n",
    "XGB_classifier.fit(x_train,y_train)\n",
    "\n",
    "# Predicting the test set\n",
    "y_pred = XGB_classifier.predict(x_test)\n",
    "# Making the confusion matrix and calculating the accuracy score\n",
    "from sklearn.metrics import confusion_matrix, accuracy_score\n",
    "cm = confusion_matrix(y_test, y_pred)\n",
    "ac = accuracy_score(y_test, y_pred)\n",
    "acscore.append(ac)\n",
    "print(cm)\n",
    "print(ac)\n"
   ]
  },
  {
   "cell_type": "code",
   "execution_count": null,
   "id": "95d301ec",
   "metadata": {},
   "outputs": [],
   "source": [
    "\n",
    "# Random Forest\n",
    "# Finding the optimum number of n_estimators\n",
    "from sklearn.ensemble import RandomForestClassifier\n",
    "from sklearn.metrics import confusion_matrix, accuracy_score\n",
    "list1 = []\n",
    "for estimators in range(10,150):\n",
    "    RF_classifier = RandomForestClassifier(n_estimators = estimators, random_state=0, criterion='entropy')\n",
    "    RF_classifier.fit(x_train, y_train)\n",
    "    y_pred = RF_classifier.predict(x_test)\n",
    "    list1.append(accuracy_score(y_test,y_pred))\n",
    "#print(mylist)\n",
    "plt.plot(list(range(10,150)), list1)\n",
    "plt.show()\n",
    "\n",
    "# Training the Random Forest Classification on the Training set\n",
    "from sklearn.ensemble import RandomForestClassifier\n",
    "RF_classifier_est = RandomForestClassifier(criterion = 'entropy', random_state = 0, n_estimators = 115)\n",
    "RF_classifier_est.fit(x_train, y_train)\n",
    "\n",
    "# Predicting the test set\n",
    "y_pred = RF_classifier_est.predict(x_test)\n",
    "\n",
    "# Making the confusion matrix and accuracy score\n",
    "from sklearn.metrics import confusion_matrix, accuracy_score\n",
    "cm = confusion_matrix(y_test, y_pred)\n",
    "ac = accuracy_score(y_test, y_pred)\n",
    "acscore.append(ac)\n",
    "print(cm)\n",
    "print(ac)"
   ]
  },
  {
   "cell_type": "code",
   "execution_count": null,
   "id": "08d985bf",
   "metadata": {},
   "outputs": [],
   "source": [
    "# Printing accuracy score of all the classification models we have applied\n",
    "print(acscore)\n",
    "\n",
    "models = ['LogisticRegression','NaiveBayes','KernelSVM','KNearestNeighbors','DecisionTree','XGBoost','RandomForest']\n",
    "\n",
    "# Visualising the accuracy score of each classification model\n",
    "plt.rcParams['figure.figsize']=15,8\n",
    "plt.style.use('dark_background')\n",
    "ax = sns.barplot(x=models, y=acscore, palette = \"rocket\", saturation =1.5)\n",
    "plt.xlabel(\"Classifier Models\", fontsize = 20 )\n",
    "plt.ylabel(\"% of Accuracy\", fontsize = 20)\n",
    "plt.title(\"Accuracy of different Classifier Models\", fontsize = 20)\n",
    "plt.xticks(fontsize = 13, horizontalalignment = 'center', rotation = 0)\n",
    "plt.yticks(fontsize = 13)\n",
    "for p in ax.patches:\n",
    "    width, height = p.get_width(), p.get_height()\n",
    "    x, y = p.get_xy()\n",
    "    ax.annotate(f'{height:.2%}', (x + width/2, y + height*1.02), ha='center', fontsize = 'x-large')\n",
    "plt.show()\n"
   ]
  },
  {
   "cell_type": "markdown",
   "id": "57013566",
   "metadata": {},
   "source": [
    "#So among all classification model Random Forest Classification has highest accuracy score = 99.70%.\n",
    "\n",
    "Pkl_Filename = \"Pickle_RF_Model.pkl\"\n",
    "with open(Pkl_Filename, 'wb') as file:\n",
    "    pickle.dump(RF_classifier_est, file)\n",
    "# Load the Model back from file\n",
    "# with open(Pkl_Filename, 'rb') as file:\n",
    "#     Pickled_RF_Model = pickle.load(file)\n",
    "\n",
    "#Pickled_RF_Model\n",
    "\n",
    "# Use the loaded pickled model to make predictions\n",
    "# Pickled_RF_Model.predict(x_test)"
   ]
  }
 ],
 "metadata": {
  "kernelspec": {
   "display_name": "Python 3",
   "language": "python",
   "name": "python3"
  },
  "language_info": {
   "codemirror_mode": {
    "name": "ipython",
    "version": 3
   },
   "file_extension": ".py",
   "mimetype": "text/x-python",
   "name": "python",
   "nbconvert_exporter": "python",
   "pygments_lexer": "ipython3",
   "version": "3.8.8"
  }
 },
 "nbformat": 4,
 "nbformat_minor": 5
}
